{
 "cells": [
  {
   "cell_type": "code",
   "execution_count": 273,
   "id": "c77321b4-a667-4240-9048-5f23112db816",
   "metadata": {},
   "outputs": [],
   "source": [
    "import requests\n",
    "from bs4 import BeautifulSoup\n",
    "from datetime import datetime\n",
    "import os\n",
    "import pandas as pd\n",
    "import schedule\n",
    "import time"
   ]
  },
  {
   "cell_type": "code",
   "execution_count": 275,
   "id": "87ea31c7-a7d6-4d33-8a44-5278c14db340",
   "metadata": {},
   "outputs": [],
   "source": [
    "# Define URLs for each zodiac sign from chosen website \n",
    "Aries_url = 'https://www.californiapsychics.com/horoscope/Aries-daily-horoscope/'\n",
    "Taurus_url = 'https://www.californiapsychics.com/horoscope/Taurus-daily-horoscope/'\n",
    "Gemini_url = 'https://www.californiapsychics.com/horoscope/gemini-daily-horoscope/'\n",
    "Cancer_url = 'https://www.californiapsychics.com/horoscope/Cancer-daily-horoscope/'\n",
    "Leo_url = 'https://www.californiapsychics.com/horoscope/Leo-daily-horoscope/'\n",
    "Virgo_url = 'https://www.californiapsychics.com/horoscope/Virgo-daily-horoscope/'\n",
    "Libra_url = 'https://www.californiapsychics.com/horoscope/Libra-daily-horoscope/'\n",
    "Scorpio_url = 'https://www.californiapsychics.com/horoscope/Scorpio-daily-horoscope/'\n",
    "Sagittarius_url = 'https://www.californiapsychics.com/horoscope/Sagittarius-daily-horoscope/'\n",
    "Capricorn_url = 'https://www.californiapsychics.com/horoscope/Capricorn-daily-horoscope/'\n",
    "Aquarius_url = 'https://www.californiapsychics.com/horoscope/Aquarius-daily-horoscope/'\n",
    "Pisces_url = 'https://www.californiapsychics.com/horoscope/Pisces-daily-horoscope/'"
   ]
  },
  {
   "cell_type": "code",
   "execution_count": 277,
   "id": "62529549-cf1b-4883-a1b3-1b459e3f5793",
   "metadata": {},
   "outputs": [],
   "source": [
    "#define function to get the daily horoscope from the website based on which horoscope is selected\n",
    "def horoscope_strip(Sign):\n",
    "\n",
    "    urls = {\n",
    "        'Aries': Aries_url,\n",
    "        'Taurus': Taurus_url,\n",
    "        'Gemini': Gemini_url,\n",
    "        'Cancer': Cancer_url,\n",
    "        'Leo': Leo_url,\n",
    "        'Virgo': Virgo_url,\n",
    "        'Libra': Libra_url,\n",
    "        'Scorpio': Scorpio_url,\n",
    "        'Sagittarius': Sagittarius_url,\n",
    "        'Capricorn': Capricorn_url,\n",
    "        'Aquarius': Aquarius_url,\n",
    "        'Pisces': Pisces_url\n",
    "    }\n",
    "\n",
    "#minor error handling... shouldnt be an issue but just in case there is a typo somewhere \n",
    "    if Sign not in urls:\n",
    "        print(\"Invalid zodiac sign.\")\n",
    "        return\n",
    "\n",
    "#get info from website given which (zodiac)sign we are calling \n",
    "    response = requests.get(urls[Sign])\n",
    "\n",
    "\n",
    "    if response.status_code == 200:\n",
    "        # Parse the webpage content\n",
    "        soup = BeautifulSoup(response.content, 'html.parser')\n",
    "\n",
    "        # Find paragraphs in the HTML\n",
    "        paragraphs = soup.find_all('p')  \n",
    "\n",
    "        # Extract and return the first paragraph's text, if it exists\n",
    "        if paragraphs:\n",
    "            horoscope = paragraphs[0].get_text()\n",
    "            return horoscope\n",
    "        else:\n",
    "            return \"No paragraphs found.\"\n",
    "    else:\n",
    "        return f\"Failed to retrieve the webpage. Status code: {response.status_code}\""
   ]
  },
  {
   "cell_type": "code",
   "execution_count": 279,
   "id": "6f2f125b-99e8-4b23-aeb0-460d8ea187c0",
   "metadata": {},
   "outputs": [],
   "source": [
    "# define the function to put together the horoscope message that is to be sent out \n",
    "def get_horoscope_message(Sign):\n",
    "    #call the previously created function\n",
    "    horoscope = horoscope_strip(Sign)\n",
    "    if \"Invalid zodiac sign.\" in horoscope or \"Failed to retrieve the webpage.\" in horoscope:\n",
    "        return horoscope\n",
    "\n",
    "    # Today's date\n",
    "    today = datetime.now().date()\n",
    "    today = today.strftime(\"%m/%d/%Y\")\n",
    "\n",
    "    # Create formatted horoscope message\n",
    "    horoscope_message = f\"Good Morning {Sign}!!!! The stars have spoken about your day!!! Today is {today}: {horoscope}\"\n",
    "    \n",
    "    return horoscope_message\n"
   ]
  },
  {
   "cell_type": "code",
   "execution_count": 281,
   "id": "d4dee73c-a297-49be-98f4-97a57841aa67",
   "metadata": {},
   "outputs": [],
   "source": [
    "#make sure it works here \n",
    "#h=get_horoscope_message('Capricorn')"
   ]
  },
  {
   "cell_type": "code",
   "execution_count": 282,
   "id": "d4a42c97-2928-4d93-a8b2-9c81510696ef",
   "metadata": {},
   "outputs": [],
   "source": [
    "#send_imessage(h, 'lob@gmail.com')"
   ]
  },
  {
   "cell_type": "code",
   "execution_count": 283,
   "id": "116e93c9-1008-4910-bcbe-22d0bb848764",
   "metadata": {},
   "outputs": [],
   "source": [
    "#define the function we will use to actually send this message out via text... can only text to emails and can only text from Macs \n",
    "def send_imessage(message, recipient):\n",
    "    script = f'''\n",
    "    tell application \"Messages\"\n",
    "        set targetService to 1st service whose service type = iMessage\n",
    "        set targetBuddy to buddy \"{recipient}\" of targetService\n",
    "        send \"{message}\" to targetBuddy\n",
    "    end tell\n",
    "    '''\n",
    "\n",
    "    os.system(f\"osascript -e '{script}'\")"
   ]
  },
  {
   "cell_type": "code",
   "execution_count": 284,
   "id": "678f6157-68e9-4a4d-92f1-2346c0e6a844",
   "metadata": {},
   "outputs": [],
   "source": [
    "# Sample DataFrame you will pass through the functions.... names arent really important but just helped me to keep track of who i had \n",
    "data = {\n",
    "    'Name': ['Bob','rob','mob','lob','fob','nob','sob','wob','pob','gob', 'cob', 'dob','tob'],\n",
    "    'Sign': ['Gemini','Taurus','Aquarius','Aquarius','Leo','Libra','Aries','Taurus','Aquarius','Gemini', 'Gemini', 'Aquarius', 'Libra'],\n",
    "    'Email': ['bob@comcast.net','rob@gmail.com','mob@ymail.com','lob@aol.com','fob@gmail.com','nob@stenhard.net','sob@gmail.com','wob@icloud.com','pob@icloud.com','gob@gmail.com', 'cob@gmail.com', 'dob@gmail.com', 'tob@gmail.com']\n",
    "}\n",
    "df = pd.DataFrame(data)"
   ]
  },
  {
   "cell_type": "code",
   "execution_count": 285,
   "id": "040ea121-9210-4a13-a80d-d057cfed636f",
   "metadata": {},
   "outputs": [],
   "source": [
    "# df"
   ]
  },
  {
   "cell_type": "code",
   "execution_count": 286,
   "id": "8eca77ee-8745-4e21-9e58-ded0e57f59eb",
   "metadata": {},
   "outputs": [],
   "source": [
    "# Define the job function\n",
    "def job():\n",
    "    for index, row in df.iterrows():\n",
    "        name = row['Name']\n",
    "        sign = row['Sign']\n",
    "        email = row['Email'] \n",
    "\n",
    "        # Get the horoscope message\n",
    "        horoscope_message = get_horoscope_message(sign)\n",
    "        #send the horoscope message \n",
    "        if \"Invalid zodiac sign.\" not in horoscope_message and \"Failed to retrieve the webpage.\" not in horoscope_message:\n",
    "            # Send the message via iMessage\n",
    "            send_imessage(horoscope_message, email)"
   ]
  },
  {
   "cell_type": "code",
   "execution_count": 287,
   "id": "1332def9-d102-45fe-9b20-6f92b54ef357",
   "metadata": {},
   "outputs": [
    {
     "name": "stdout",
     "output_type": "stream",
     "text": [
      "Scheduled message at 06:00. Awaiting...\n"
     ]
    }
   ],
   "source": [
    "# Schedule the message for a specific time\n",
    "schedule_time = \"06:00\"  # Format: HH:MM in 24-hour format\n",
    "schedule.every().day.at(schedule_time).do(job)\n",
    "\n",
    "print(f\"Scheduled message at {schedule_time}. Awaiting...\")"
   ]
  },
  {
   "cell_type": "code",
   "execution_count": null,
   "id": "d4921e06-2a4a-4358-871c-ebdfe90f0082",
   "metadata": {},
   "outputs": [],
   "source": [
    "# Run the scheduler, this code needs to remain running as long as you want this message to be sent out....\n",
    "while True:\n",
    "    schedule.run_pending()\n",
    "    time.sleep(1)"
   ]
  },
  {
   "cell_type": "code",
   "execution_count": null,
   "id": "e2062979-1f0b-457e-8e6e-426f27901691",
   "metadata": {},
   "outputs": [],
   "source": []
  },
  {
   "cell_type": "code",
   "execution_count": null,
   "id": "5fccfc48-36a2-4f8a-85e9-89798dc17d55",
   "metadata": {},
   "outputs": [],
   "source": []
  },
  {
   "cell_type": "code",
   "execution_count": null,
   "id": "1c73fa76-073e-4f2a-84c2-8ede9fb98f5e",
   "metadata": {},
   "outputs": [],
   "source": []
  },
  {
   "cell_type": "code",
   "execution_count": null,
   "id": "7faf2555-f2bf-470d-bf4c-b84e5a8487a9",
   "metadata": {},
   "outputs": [],
   "source": []
  },
  {
   "cell_type": "code",
   "execution_count": null,
   "id": "2e5b912d-46d7-4bac-b889-1197a1093588",
   "metadata": {},
   "outputs": [],
   "source": []
  }
 ],
 "metadata": {
  "kernelspec": {
   "display_name": "Python [conda env:base] *",
   "language": "python",
   "name": "conda-base-py"
  },
  "language_info": {
   "codemirror_mode": {
    "name": "ipython",
    "version": 3
   },
   "file_extension": ".py",
   "mimetype": "text/x-python",
   "name": "python",
   "nbconvert_exporter": "python",
   "pygments_lexer": "ipython3",
   "version": "3.12.7"
  }
 },
 "nbformat": 4,
 "nbformat_minor": 5
}
